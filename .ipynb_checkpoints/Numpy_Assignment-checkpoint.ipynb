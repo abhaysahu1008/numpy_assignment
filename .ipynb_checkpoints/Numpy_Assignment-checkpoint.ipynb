{
 "cells": [
  {
   "cell_type": "code",
   "execution_count": 17,
   "id": "82fc7269-797d-4245-ad37-2b4ddbbbb42e",
   "metadata": {},
   "outputs": [
    {
     "name": "stdout",
     "output_type": "stream",
     "text": [
      "int64\n"
     ]
    }
   ],
   "source": [
    "#1. Create a NumPy array 'arr' of integers from 0 to 5 and print its data type.\n",
    "import numpy as np\n",
    "arr=np.array(range(6))\n",
    "print(arr.dtype)"
   ]
  },
  {
   "cell_type": "code",
   "execution_count": 18,
   "id": "2583b98a-849c-49fd-bdb8-55b69d602ac6",
   "metadata": {},
   "outputs": [
    {
     "name": "stdout",
     "output_type": "stream",
     "text": [
      "True\n"
     ]
    }
   ],
   "source": [
    "#2. Given a NumPy array 'arr', check if its data type is float64.\n",
    "arr = np.array([1.5, 2.6, 3.7])\n",
    "is_float=arr.dtype==np.float64\n",
    "print(is_float)"
   ]
  },
  {
   "cell_type": "code",
   "execution_count": 19,
   "id": "296637c3-e799-4a31-a333-21b8ea65a854",
   "metadata": {},
   "outputs": [
    {
     "name": "stdout",
     "output_type": "stream",
     "text": [
      "[1.+5.j 2.+2.j 6.+3.j]\n"
     ]
    }
   ],
   "source": [
    "#3. Create a NumPy array 'arr' with a data type of complex128 containing three complex numbers.\n",
    "arr=np.array([1+5j,2+2j,6+3j],dtype=np.complex128)\n",
    "print(arr)"
   ]
  },
  {
   "cell_type": "code",
   "execution_count": 20,
   "id": "4372b772-f81c-4f54-b055-9faa850ae445",
   "metadata": {},
   "outputs": [
    {
     "name": "stdout",
     "output_type": "stream",
     "text": [
      "[ 1. 23.  4. 53.  2.]\n"
     ]
    }
   ],
   "source": [
    "#4. Convert an existing NumPy array 'arr' of integers to float32 data type.\n",
    "arr=np.array([1,23,4,53,2])\n",
    "arr_tofloat=arr.astype(np.float64)\n",
    "print(arr_tofloat)"
   ]
  },
  {
   "cell_type": "code",
   "execution_count": 21,
   "id": "24f1a866-0d0e-4ba9-b119-2763dfc3e771",
   "metadata": {},
   "outputs": [
    {
     "name": "stdout",
     "output_type": "stream",
     "text": [
      "[0. 1. 2. 3. 4. 5.]\n"
     ]
    }
   ],
   "source": [
    "#5. Given a NumPy array 'arr' with float64 data type, convert it to float32 to reduce decimal precision\n",
    "arr=np.array(range(6),dtype=np.float64)\n",
    "arr_converted=arr.astype(np.float32)\n",
    "print(arr_converted)"
   ]
  },
  {
   "cell_type": "code",
   "execution_count": 22,
   "id": "23ebbd5b-d99e-4ea3-ad9b-b98c7cd325da",
   "metadata": {},
   "outputs": [
    {
     "name": "stdout",
     "output_type": "stream",
     "text": [
      "Shape: (2, 3), Size: 6, Data Type: int64\n"
     ]
    }
   ],
   "source": [
    "#6. Write a function array_attributes that takes a NumPy array as input and returns its shape, size, and data\n",
    "#type.\n",
    "def array_attributes(arr):\n",
    "    shape=arr.shape\n",
    "    size=arr.size\n",
    "    data_type=arr.dtype\n",
    "    return shape,size,data_type\n",
    "\n",
    "#example usage\n",
    "arr=np.array([[2,3,5],[2,5,8]],dtype=np.int64)\n",
    "shape, size, dtype = array_attributes(arr)\n",
    "print(f\"Shape: {shape}, Size: {size}, Data Type: {dtype}\")\n",
    "\n",
    "    \n",
    "\n"
   ]
  },
  {
   "cell_type": "code",
   "execution_count": 23,
   "id": "16cb449d-5755-427c-94f6-1f4c27cc5ff3",
   "metadata": {},
   "outputs": [
    {
     "name": "stdout",
     "output_type": "stream",
     "text": [
      "Dimension:2\n"
     ]
    }
   ],
   "source": [
    "#7. Create a function array_dimension that takes a NumPy array as input and returns its dimensionality.\n",
    "def array_dimension(arr):\n",
    "    dimension=arr.ndim\n",
    "    return dimension\n",
    "#example usage\n",
    "arr=np.array([[2,4,5],[5,78,3]],dtype=np.int64)\n",
    "dimension=array_dimension(arr)\n",
    "print(f\"Dimension:{dimension}\")"
   ]
  },
  {
   "cell_type": "code",
   "execution_count": 29,
   "id": "98417979-1ccf-41de-847d-c89791ef0d40",
   "metadata": {},
   "outputs": [
    {
     "name": "stdout",
     "output_type": "stream",
     "text": [
      "Item Size: 4 bytes, Total Size: 24 bytes\n"
     ]
    }
   ],
   "source": [
    " #8. Design a function item_size_info that takes a NumPy array as input and returns the item size and the total\n",
    "#size in bytes.\n",
    "def item_size_info(arr):\n",
    "     item_size = arr.itemsize\n",
    "     total_size = arr.nbytes\n",
    "     return item_size, total_size\n",
    "\n",
    "# Example usage:\n",
    "arr = np.array([[1, 2, 3], [4, 5, 6]], dtype=np.int32)\n",
    "item_size, total_size = item_size_info(arr)\n",
    "print(f\"Item Size: {item_size} bytes, Total Size: {total_size} bytes\")\n",
    "    "
   ]
  },
  {
   "cell_type": "code",
   "execution_count": 31,
   "id": "b59976a5-38d4-498c-8c26-3398ed7a4339",
   "metadata": {},
   "outputs": [
    {
     "name": "stdout",
     "output_type": "stream",
     "text": [
      "Strides: (12, 4)\n"
     ]
    }
   ],
   "source": [
    "#9. Create a function array_strides that takes a NumPy array as input and returns the strides of the array.\n",
    "def array_strides(arr):\n",
    "    return arr.strides\n",
    "\n",
    "# Example usage:\n",
    "arr = np.array([[1, 2, 3], [4, 5, 6]], dtype=np.int32)\n",
    "strides = array_strides(arr)\n",
    "print(f\"Strides: {strides}\")"
   ]
  },
  {
   "cell_type": "code",
   "execution_count": 32,
   "id": "60012d82-0434-4aec-b3b3-6c4fc7aad55b",
   "metadata": {},
   "outputs": [
    {
     "name": "stdout",
     "output_type": "stream",
     "text": [
      "Shape: (2, 3), Strides: (12, 4)\n"
     ]
    }
   ],
   "source": [
    "#10. Design a function shape_stride_relationship that takes a NumPy array as input and returns the shape\n",
    "#and strides of the array.\n",
    "def shape_stride_relationship(arr):\n",
    "    shape=arr.shape\n",
    "    strides_ofarray=arr.strides\n",
    "    return shape,strides_ofarray\n",
    "arr = np.array([[1, 2, 3], [4, 5, 6]], dtype=np.int32)\n",
    "shape, strides = shape_stride_relationship(arr)\n",
    "print(f\"Shape: {shape}, Strides: {strides}\")"
   ]
  },
  {
   "cell_type": "code",
   "execution_count": null,
   "id": "096013e1-2448-47ff-998f-142fcd591351",
   "metadata": {},
   "outputs": [],
   "source": []
  }
 ],
 "metadata": {
  "kernelspec": {
   "display_name": "Python 3 (ipykernel)",
   "language": "python",
   "name": "python3"
  },
  "language_info": {
   "codemirror_mode": {
    "name": "ipython",
    "version": 3
   },
   "file_extension": ".py",
   "mimetype": "text/x-python",
   "name": "python",
   "nbconvert_exporter": "python",
   "pygments_lexer": "ipython3",
   "version": "3.10.8"
  }
 },
 "nbformat": 4,
 "nbformat_minor": 5
}
