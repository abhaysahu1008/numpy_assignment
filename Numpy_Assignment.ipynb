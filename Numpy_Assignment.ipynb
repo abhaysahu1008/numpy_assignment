{
 "cells": [
  {
   "cell_type": "code",
   "execution_count": 4,
   "id": "82fc7269-797d-4245-ad37-2b4ddbbbb42e",
   "metadata": {},
   "outputs": [
    {
     "name": "stdout",
     "output_type": "stream",
     "text": [
      "int64\n"
     ]
    }
   ],
   "source": [
    "#1. Create a NumPy array 'arr' of integers from 0 to 5 and print its data type.\n",
    "import numpy as np\n",
    "arr=np.array(range(6))\n",
    "print(arr.dtype)"
   ]
  },
  {
   "cell_type": "code",
   "execution_count": 5,
   "id": "2583b98a-849c-49fd-bdb8-55b69d602ac6",
   "metadata": {},
   "outputs": [
    {
     "name": "stdout",
     "output_type": "stream",
     "text": [
      "True\n"
     ]
    }
   ],
   "source": [
    "#2. Given a NumPy array 'arr', check if its data type is float64.\n",
    "arr = np.array([1.5, 2.6, 3.7])\n",
    "is_float=arr.dtype==np.float64\n",
    "print(is_float)"
   ]
  },
  {
   "cell_type": "code",
   "execution_count": 6,
   "id": "296637c3-e799-4a31-a333-21b8ea65a854",
   "metadata": {},
   "outputs": [
    {
     "name": "stdout",
     "output_type": "stream",
     "text": [
      "[1.+5.j 2.+2.j 6.+3.j]\n"
     ]
    }
   ],
   "source": [
    "#3. Create a NumPy array 'arr' with a data type of complex128 containing three complex numbers.\n",
    "arr=np.array([1+5j,2+2j,6+3j],dtype=np.complex128)\n",
    "print(arr)"
   ]
  },
  {
   "cell_type": "code",
   "execution_count": 7,
   "id": "4372b772-f81c-4f54-b055-9faa850ae445",
   "metadata": {},
   "outputs": [
    {
     "name": "stdout",
     "output_type": "stream",
     "text": [
      "[ 1. 23.  4. 53.  2.]\n"
     ]
    }
   ],
   "source": [
    "#4. Convert an existing NumPy array 'arr' of integers to float32 data type.\n",
    "arr=np.array([1,23,4,53,2])\n",
    "arr_tofloat=arr.astype(np.float64)\n",
    "print(arr_tofloat)"
   ]
  },
  {
   "cell_type": "code",
   "execution_count": 8,
   "id": "24f1a866-0d0e-4ba9-b119-2763dfc3e771",
   "metadata": {},
   "outputs": [
    {
     "name": "stdout",
     "output_type": "stream",
     "text": [
      "[0. 1. 2. 3. 4. 5.]\n"
     ]
    }
   ],
   "source": [
    "#5. Given a NumPy array 'arr' with float64 data type, convert it to float32 to reduce decimal precision\n",
    "arr=np.array(range(6),dtype=np.float64)\n",
    "arr_converted=arr.astype(np.float32)\n",
    "print(arr_converted)"
   ]
  },
  {
   "cell_type": "code",
   "execution_count": 9,
   "id": "23ebbd5b-d99e-4ea3-ad9b-b98c7cd325da",
   "metadata": {},
   "outputs": [
    {
     "name": "stdout",
     "output_type": "stream",
     "text": [
      "Shape: (2, 3), Size: 6, Data Type: int64\n"
     ]
    }
   ],
   "source": [
    "#6. Write a function array_attributes that takes a NumPy array as input and returns its shape, size, and data\n",
    "#type.\n",
    "def array_attributes(arr):\n",
    "    shape=arr.shape\n",
    "    size=arr.size\n",
    "    data_type=arr.dtype\n",
    "    return shape,size,data_type\n",
    "\n",
    "#example usage\n",
    "arr=np.array([[2,3,5],[2,5,8]],dtype=np.int64)\n",
    "shape, size, dtype = array_attributes(arr)\n",
    "print(f\"Shape: {shape}, Size: {size}, Data Type: {dtype}\")\n",
    "\n",
    "    \n",
    "\n"
   ]
  },
  {
   "cell_type": "code",
   "execution_count": 10,
   "id": "16cb449d-5755-427c-94f6-1f4c27cc5ff3",
   "metadata": {},
   "outputs": [
    {
     "name": "stdout",
     "output_type": "stream",
     "text": [
      "Dimension:2\n"
     ]
    }
   ],
   "source": [
    "#7. Create a function array_dimension that takes a NumPy array as input and returns its dimensionality.\n",
    "def array_dimension(arr):\n",
    "    dimension=arr.ndim\n",
    "    return dimension\n",
    "#example usage\n",
    "arr=np.array([[2,4,5],[5,78,3]],dtype=np.int64)\n",
    "dimension=array_dimension(arr)\n",
    "print(f\"Dimension:{dimension}\")"
   ]
  },
  {
   "cell_type": "code",
   "execution_count": 11,
   "id": "98417979-1ccf-41de-847d-c89791ef0d40",
   "metadata": {},
   "outputs": [
    {
     "name": "stdout",
     "output_type": "stream",
     "text": [
      "Item Size: 4 bytes, Total Size: 24 bytes\n"
     ]
    }
   ],
   "source": [
    " #8. Design a function item_size_info that takes a NumPy array as input and returns the item size and the total\n",
    "#size in bytes.\n",
    "def item_size_info(arr):\n",
    "     item_size = arr.itemsize\n",
    "     total_size = arr.nbytes\n",
    "     return item_size, total_size\n",
    "\n",
    "# Example usage:\n",
    "arr = np.array([[1, 2, 3], [4, 5, 6]], dtype=np.int32)\n",
    "item_size, total_size = item_size_info(arr)\n",
    "print(f\"Item Size: {item_size} bytes, Total Size: {total_size} bytes\")\n",
    "    "
   ]
  },
  {
   "cell_type": "code",
   "execution_count": 12,
   "id": "b59976a5-38d4-498c-8c26-3398ed7a4339",
   "metadata": {},
   "outputs": [
    {
     "name": "stdout",
     "output_type": "stream",
     "text": [
      "Strides: (12, 4)\n"
     ]
    }
   ],
   "source": [
    "#9. Create a function array_strides that takes a NumPy array as input and returns the strides of the array.\n",
    "def array_strides(arr):\n",
    "    return arr.strides\n",
    "\n",
    "# Example usage:\n",
    "arr = np.array([[1, 2, 3], [4, 5, 6]], dtype=np.int32)\n",
    "strides = array_strides(arr)\n",
    "print(f\"Strides: {strides}\")"
   ]
  },
  {
   "cell_type": "code",
   "execution_count": 13,
   "id": "60012d82-0434-4aec-b3b3-6c4fc7aad55b",
   "metadata": {},
   "outputs": [
    {
     "name": "stdout",
     "output_type": "stream",
     "text": [
      "Shape: (2, 3), Strides: (12, 4)\n"
     ]
    }
   ],
   "source": [
    "#10. Design a function shape_stride_relationship that takes a NumPy array as input and returns the shape\n",
    "#and strides of the array.\n",
    "def shape_stride_relationship(arr):\n",
    "    shape=arr.shape\n",
    "    strides_ofarray=arr.strides\n",
    "    return shape,strides_ofarray\n",
    "arr = np.array([[1, 2, 3], [4, 5, 6]], dtype=np.int32)\n",
    "shape, strides = shape_stride_relationship(arr)\n",
    "print(f\"Shape: {shape}, Strides: {strides}\")"
   ]
  },
  {
   "cell_type": "code",
   "execution_count": 14,
   "id": "096013e1-2448-47ff-998f-142fcd591351",
   "metadata": {},
   "outputs": [
    {
     "name": "stdout",
     "output_type": "stream",
     "text": [
      "[0. 0. 0. 0. 0.]\n"
     ]
    }
   ],
   "source": [
    "#11. Create a function `create_zeros_array` that takes an integer `n` as input and returns a NumPy array of\n",
    "#zeros with `n` elements.\n",
    "def create_zeros_array(n):\n",
    "    return np.zeros(n)\n",
    "\n",
    "# Example usage:\n",
    "n = 5\n",
    "zeros_array = create_zeros_array(n)\n",
    "print(zeros_array)\n",
    "    \n"
   ]
  },
  {
   "cell_type": "code",
   "execution_count": 15,
   "id": "23ab2d79-b02c-4245-ab12-5c638103650c",
   "metadata": {},
   "outputs": [
    {
     "name": "stdout",
     "output_type": "stream",
     "text": [
      "[[1. 1. 1. 1.]\n",
      " [1. 1. 1. 1.]\n",
      " [1. 1. 1. 1.]]\n"
     ]
    }
   ],
   "source": [
    "#12. Write a function `create_ones_matrix` that takces integers `rows` and `cols` as inputs and generates a 2D\n",
    "#NumPy array filled with ones of size `rows x cols`.\n",
    "def create_ones_matrix(rows,cols):\n",
    "    return np.ones((rows, cols))\n",
    "\n",
    "# Example usage:\n",
    "rows = 3\n",
    "cols = 4\n",
    "ones_matrix = create_ones_matrix(rows, cols)\n",
    "print(ones_matrix)\n",
    "    "
   ]
  },
  {
   "cell_type": "code",
   "execution_count": 16,
   "id": "7a95fac6-4ab2-4bac-9f86-69cfd8da320f",
   "metadata": {},
   "outputs": [
    {
     "name": "stdout",
     "output_type": "stream",
     "text": [
      "[0 2 4 6 8]\n"
     ]
    }
   ],
   "source": [
    "#13. Write a function `generate_range_array` that takes three integers start, stop, and step as arguments and\n",
    "#creates a NumPy array with a range starting from `start`, ending at stop (exclusive), and with the specified\n",
    "#`step`.\n",
    "def generate_range_array(start,stop,step):\n",
    "    return np.arange(start,stop,step)\n",
    "\n",
    "#example usage\n",
    "start=0\n",
    "stop=10\n",
    "step=2 \n",
    "arr=generate_range_array(start,stop,step)\n",
    "print(arr)"
   ]
  },
  {
   "cell_type": "code",
   "execution_count": 17,
   "id": "dcb61e80-f91a-4403-84c7-68fa24f89cfa",
   "metadata": {},
   "outputs": [
    {
     "name": "stdout",
     "output_type": "stream",
     "text": [
      "[0.   0.25 0.5  0.75 1.  ]\n"
     ]
    }
   ],
   "source": [
    "#14. Design a function `generate_linear_space` that takes two floats `start`, `stop`, and an integer `num` as\n",
    "#arguments and generates a NumPy array with num equally spaced values between `start` and `stop`\n",
    "#(inclusive).\n",
    "def generate_linear_space(start,stop,num):\n",
    "      return np.linspace(start, stop, num)\n",
    "\n",
    "# Example usage:\n",
    "start = 0.0\n",
    "stop = 1.0\n",
    "num = 5\n",
    "linear_space_array = generate_linear_space(start, stop, num)\n",
    "print(linear_space_array)\n",
    "    "
   ]
  },
  {
   "cell_type": "code",
   "execution_count": 18,
   "id": "8c9a8ca6-8fa2-47da-8685-c4168091334c",
   "metadata": {},
   "outputs": [
    {
     "name": "stdout",
     "output_type": "stream",
     "text": [
      "[[1. 0. 0. 0.]\n",
      " [0. 1. 0. 0.]\n",
      " [0. 0. 1. 0.]\n",
      " [0. 0. 0. 1.]]\n"
     ]
    }
   ],
   "source": [
    "#15. Create a function `create_identity_matrix` that takes an integer `n` as input and generates a square\n",
    "#identity matrix of size `n x n` using `numpy.eye`.\n",
    "def create_identity_matrix(n):\n",
    "     return np.eye(n)\n",
    "\n",
    "# Example usage:\n",
    "n = 4\n",
    "identity_matrix = create_identity_matrix(n)\n",
    "print(identity_matrix)\n",
    "    \n",
    "    "
   ]
  },
  {
   "cell_type": "code",
   "execution_count": 19,
   "id": "a8778379-eb1f-4ca5-b794-f676a3c47922",
   "metadata": {},
   "outputs": [
    {
     "name": "stdout",
     "output_type": "stream",
     "text": [
      "[1 2 3 4 5]\n",
      "<class 'numpy.ndarray'>\n"
     ]
    }
   ],
   "source": [
    "#16. Write a function that takes a Python list and converts it into a NumPy array.\n",
    "def list_to_numpy_array(py_list):\n",
    "    return np.array(py_list)\n",
    "\n",
    "# Example usage:\n",
    "py_list = [1, 2, 3, 4, 5]\n",
    "numpy_array = list_to_numpy_array(py_list)\n",
    "print(numpy_array)\n",
    "print(type(numpy_array))"
   ]
  },
  {
   "cell_type": "code",
   "execution_count": 20,
   "id": "4029456a-c1ee-437f-921d-bec421a0ab2c",
   "metadata": {},
   "outputs": [
    {
     "name": "stdout",
     "output_type": "stream",
     "text": [
      "Original array: [99  2  3  4  5]\n",
      "View array: [99  2  3  4  5]\n"
     ]
    }
   ],
   "source": [
    "#17. Create a NumPy array and demonstrate the use of `numpy.view` to create a new array object with the\n",
    "#same data.\n",
    "original_array = np.array([1, 2, 3, 4, 5])\n",
    "\n",
    "# Create a view of the original array\n",
    "view_array = original_array.view()\n",
    "\n",
    "# Modify the view array\n",
    "view_array[0] = 99\n",
    "\n",
    "# Print both arrays to see the effect\n",
    "print(\"Original array:\", original_array)\n",
    "print(\"View array:\", view_array)"
   ]
  },
  {
   "cell_type": "code",
   "execution_count": 21,
   "id": "f495aa62-df4a-4c45-8af1-c4e30f2a64a9",
   "metadata": {},
   "outputs": [
    {
     "name": "stdout",
     "output_type": "stream",
     "text": [
      "Concatenated along axis 0:\n",
      " [[ 1  2  3]\n",
      " [ 4  5  6]\n",
      " [ 7  8  9]\n",
      " [10 11 12]]\n",
      "Concatenated along axis 1:\n",
      " [[ 1  2  3  7  8  9]\n",
      " [ 4  5  6 10 11 12]]\n"
     ]
    }
   ],
   "source": [
    "#18. Write a function that takes two NumPy arrays and concatenates them along a specified axis\n",
    "def concatenate_arrays(arr1,arr2,axis=0):\n",
    "     return np.concatenate((arr1, arr2), axis=axis)\n",
    "\n",
    "# Example usage:\n",
    "arr1 = np.array([[1, 2, 3], [4, 5, 6]])\n",
    "arr2 = np.array([[7, 8, 9], [10, 11, 12]])\n",
    "\n",
    "# Concatenate along axis 0 (rows)\n",
    "concatenated_array_axis0 = concatenate_arrays(arr1, arr2, axis=0)\n",
    "print(\"Concatenated along axis 0:\\n\", concatenated_array_axis0)\n",
    "\n",
    "# Concatenate along axis 1 (columns)\n",
    "concatenated_array_axis1 = concatenate_arrays(arr1, arr2, axis=1)\n",
    "print(\"Concatenated along axis 1:\\n\", concatenated_array_axis1)"
   ]
  },
  {
   "cell_type": "code",
   "execution_count": 22,
   "id": "5014ea76-a262-4505-86d7-368fbf38de23",
   "metadata": {},
   "outputs": [
    {
     "name": "stdout",
     "output_type": "stream",
     "text": [
      "Concatenated horizontally:\n",
      " [[ 1  2  3  7  8]\n",
      " [ 4  5  6  9 10]]\n"
     ]
    }
   ],
   "source": [
    "#19. Create two NumPy arrays with different shapes and concatenate them horizontally using `numpy.\n",
    "#concatenate`.\n",
    "arr1 = np.array([[1, 2, 3],\n",
    "                 [4, 5, 6]])\n",
    "\n",
    "arr2 = np.array([[7, 8],\n",
    "                 [9, 10]])\n",
    "\n",
    "# Concatenate the arrays horizontally (along axis 1)\n",
    "concatenated_array = np.concatenate((arr1, arr2), axis=1)\n",
    "\n",
    "print(\"Concatenated horizontally:\\n\", concatenated_array)"
   ]
  },
  {
   "cell_type": "code",
   "execution_count": 23,
   "id": "43db0d98-940c-4f17-813f-bd1454474cb3",
   "metadata": {},
   "outputs": [
    {
     "name": "stdout",
     "output_type": "stream",
     "text": [
      "Vertically stacked array:\n",
      " [[1 2 3]\n",
      " [4 5 6]\n",
      " [7 8 9]]\n"
     ]
    }
   ],
   "source": [
    "#20. Write a function that vertically stacks multiple NumPy arrays given as a list.\n",
    "def vertically_stack_arrays(array_list):\n",
    "    \n",
    "    return np.vstack(array_list)\n",
    "\n",
    "# Example usage:\n",
    "arr1 = np.array([[1, 2, 3]])\n",
    "arr2 = np.array([[4, 5, 6]])\n",
    "arr3 = np.array([[7, 8, 9]])\n",
    "\n",
    "array_list = [arr1, arr2, arr3]\n",
    "stacked_array = vertically_stack_arrays(array_list)\n",
    "print(\"Vertically stacked array:\\n\", stacked_array)"
   ]
  },
  {
   "cell_type": "code",
   "execution_count": 24,
   "id": "4a9bc296-531a-44f8-a790-183eb1d334d3",
   "metadata": {},
   "outputs": [
    {
     "name": "stdout",
     "output_type": "stream",
     "text": [
      "[1 3 5 7 9]\n"
     ]
    }
   ],
   "source": [
    "#21. Write a Python function using NumPy to create an array of integers within a specified range (inclusive) with a given step size.\n",
    "import numpy as np\n",
    "\n",
    "def create_array_in_range(start, end, step):\n",
    "    return np.arange(start, end + 1, step)\n",
    "\n",
    "# Example usage:\n",
    "array1 = create_array_in_range(1, 10, 2)\n",
    "print(array1)\n"
   ]
  },
  {
   "cell_type": "code",
   "execution_count": 25,
   "id": "4b819ac1-d639-4201-b19c-4b33261b7251",
   "metadata": {},
   "outputs": [
    {
     "name": "stdout",
     "output_type": "stream",
     "text": [
      "[0.         0.11111111 0.22222222 0.33333333 0.44444444 0.55555556\n",
      " 0.66666667 0.77777778 0.88888889 1.        ]\n"
     ]
    }
   ],
   "source": [
    "#22. Write a Python function using NumPy to generate an array of 10 equally spaced values between 0 and 1 (inclusive).\n",
    "\n",
    "import numpy as np\n",
    "\n",
    "def generate_equally_spaced_values():\n",
    "    return np.linspace(0, 1, 10)\n",
    "\n",
    "# Example usage:\n",
    "array2 = generate_equally_spaced_values()\n",
    "print(array2)\n"
   ]
  },
  {
   "cell_type": "code",
   "execution_count": 26,
   "id": "cf7b6184-46f0-464a-9b9b-62d90a3489ca",
   "metadata": {},
   "outputs": [
    {
     "name": "stdout",
     "output_type": "stream",
     "text": [
      "[   1.            5.62341325   31.6227766   177.827941   1000.        ]\n"
     ]
    }
   ],
   "source": [
    "#23. Write a Python function using NumPy to create an array of 5 logarithmically spaced values between 1 and 1000 (inclusive).\n",
    "\n",
    "import numpy as np\n",
    "\n",
    "def create_log_spaced_values():\n",
    "    return np.logspace(0, 3, 5)\n",
    "\n",
    "# Example usage:\n",
    "array3 = create_log_spaced_values()\n",
    "print(array3)\n"
   ]
  },
  {
   "cell_type": "code",
   "execution_count": 27,
   "id": "d4cdb2e2-1089-4aa7-b16a-0125723df2ba",
   "metadata": {},
   "outputs": [
    {
     "name": "stdout",
     "output_type": "stream",
     "text": [
      "    A   B   C\n",
      "0  15  35  91\n",
      "1  46  74  28\n",
      "2  68  57  98\n",
      "3  59  81  50\n",
      "4  52  50  31\n"
     ]
    }
   ],
   "source": [
    "#24. Create a Pandas DataFrame using a NumPy array that contains 5 rows and 3 columns, where the values are random integers between 1 and 100.\n",
    "\n",
    "import numpy as np\n",
    "import pandas as pd\n",
    "\n",
    "def create_random_dataframe():\n",
    "    data = np.random.randint(1, 101, size=(5, 3))\n",
    "    return pd.DataFrame(data, columns=['A', 'B', 'C'])\n",
    "\n",
    "# Example usage:\n",
    "df = create_random_dataframe()\n",
    "print(df)\n"
   ]
  },
  {
   "cell_type": "code",
   "execution_count": 28,
   "id": "84785ab6-db34-448e-a64f-bf8458bfecbd",
   "metadata": {},
   "outputs": [
    {
     "name": "stdout",
     "output_type": "stream",
     "text": [
      "Before:\n",
      "   A  B\n",
      "0  1  5\n",
      "1 -2 -6\n",
      "2  3  7\n",
      "3 -4  8\n",
      "4  5 -9\n",
      "After:\n",
      "   A  B\n",
      "0  1  5\n",
      "1  0 -6\n",
      "2  3  7\n",
      "3  0  8\n",
      "4  5 -9\n"
     ]
    }
   ],
   "source": [
    "#25. Write a function that takes a Pandas DataFrame and replaces all negative values in a specific column with zeros. Use NumPy operations within the Pandas DataFrame.\n",
    "\n",
    "import numpy as np\n",
    "import pandas as pd\n",
    "\n",
    "def replace_negatives_with_zero(df, column_name):\n",
    "    df[column_name] = np.where(df[column_name] < 0, 0, df[column_name])\n",
    "    return df\n",
    "\n",
    "# Example usage:\n",
    "df = pd.DataFrame({'A': [1, -2, 3, -4, 5], 'B': [5, -6, 7, 8, -9]})\n",
    "print(\"Before:\")\n",
    "print(df)\n",
    "df = replace_negatives_with_zero(df, 'A')\n",
    "print(\"After:\")\n",
    "print(df)\n"
   ]
  },
  {
   "cell_type": "code",
   "execution_count": 29,
   "id": "25ffd5ae-ec0f-4422-86af-34fafbfee95c",
   "metadata": {},
   "outputs": [
    {
     "name": "stdout",
     "output_type": "stream",
     "text": [
      "30\n"
     ]
    }
   ],
   "source": [
    "#26. Access the 3rd element from the given NumPy array: arr = np.array([10, 20, 30, 40, 50])\n",
    "\n",
    "import numpy as np\n",
    "\n",
    "arr = np.array([10, 20, 30, 40, 50])\n",
    "\n",
    "# Accessing the 3rd element (index 2 since indexing starts from 0)\n",
    "third_element = arr[2]\n",
    "print(third_element)\n"
   ]
  },
  {
   "cell_type": "code",
   "execution_count": 30,
   "id": "b374b455-a081-4286-804b-20c3c97880c7",
   "metadata": {},
   "outputs": [
    {
     "name": "stdout",
     "output_type": "stream",
     "text": [
      "6\n"
     ]
    }
   ],
   "source": [
    "#.27. Retrieve the element at index (1, 2) from the 2D NumPy array: arr_2d = np.array([[1, 2, 3], [4, 5, 6], [7, 8, 9]])\n",
    "\n",
    "import numpy as np\n",
    "\n",
    "arr_2d = np.array([[1, 2, 3], [4, 5, 6], [7, 8, 9]])\n",
    "\n",
    "# Retrieving the element at index (1, 2)\n",
    "element = arr_2d[1, 2]\n",
    "print(element)\n"
   ]
  },
  {
   "cell_type": "code",
   "execution_count": 31,
   "id": "d4444847-a982-4be2-b813-57627fa19139",
   "metadata": {},
   "outputs": [
    {
     "name": "stdout",
     "output_type": "stream",
     "text": [
      "[ 8 10  7]\n"
     ]
    }
   ],
   "source": [
    "#28. Using boolean indexing, extract elements greater than 5 from the given NumPy array: arr = np.array([3, 8, 2, 10, 5, 7])\n",
    "\n",
    "import numpy as np\n",
    "\n",
    "arr = np.array([3, 8, 2, 10, 5, 7])\n",
    "\n",
    "# Extracting elements greater than 5\n",
    "filtered_elements = arr[arr > 5]\n",
    "print(filtered_elements)\n"
   ]
  },
  {
   "cell_type": "code",
   "execution_count": 32,
   "id": "3236a675-d62b-40d0-bbfb-3d176996f934",
   "metadata": {},
   "outputs": [
    {
     "name": "stdout",
     "output_type": "stream",
     "text": [
      "[3 4 5 6]\n"
     ]
    }
   ],
   "source": [
    "#29.Perform basic slicing to extract elements from index 2 to 5 (inclusive) from the given NumPy array: arr = np.array([1, 2, 3, 4, 5, 6, 7, 8, 9]). Slice the 2D NumPy array to extract the sub-array [[2, 3], [5, 6]] from the given array.\n",
    "\n",
    "import numpy as np\n",
    "\n",
    "arr = np.array([1, 2, 3, 4, 5, 6, 7, 8, 9])\n",
    "\n",
    "# Extracting elements from index 2 to 5 (inclusive)\n",
    "sliced_elements = arr[2:6]\n",
    "print(sliced_elements)\n"
   ]
  },
  {
   "cell_type": "code",
   "execution_count": 33,
   "id": "185c3523-b048-4137-9313-3cd773eb979e",
   "metadata": {},
   "outputs": [
    {
     "name": "stdout",
     "output_type": "stream",
     "text": [
      "Original array:\n",
      "[[1 2 3]\n",
      " [4 5 6]\n",
      " [7 8 9]]\n",
      "Sub-array:\n",
      "[[2 3]\n",
      " [5 6]]\n"
     ]
    }
   ],
   "source": [
    "#30.Slice the 2D NumPy array to extract the sub-array [[2, 3], [5, 6]] from the given array\n",
    "  #arr_2d = np.array([[1, 2, 3],[4, 5, 6],[7, 8, 9]])\n",
    "\n",
    "import numpy as np\n",
    "\n",
    "arr_2d = np.array([[1, 2, 3],\n",
    "                   [4, 5, 6],\n",
    "                   [7, 8, 9]])\n",
    "\n",
    "# Extracting the sub-array\n",
    "sub_array = arr_2d[0:2, 1:3]\n",
    "\n",
    "print(\"Original array:\")\n",
    "print(arr_2d)\n",
    "print(\"Sub-array:\")\n",
    "print(sub_array)\n"
   ]
  },
  {
   "cell_type": "code",
   "execution_count": 34,
   "id": "f7293976-5e23-478f-9f4c-560603965c36",
   "metadata": {},
   "outputs": [
    {
     "name": "stdout",
     "output_type": "stream",
     "text": [
      "[2 6 7]\n"
     ]
    }
   ],
   "source": [
    "#31. Write a NumPy function to extract elements in a specific order from a given 2D array based on indices provided in another array.\n",
    "\n",
    "import numpy as np\n",
    "\n",
    "def extract_elements(arr, indices):\n",
    "    return arr[indices[:, 0], indices[:, 1]]\n",
    "\n",
    "# Example usage:\n",
    "arr = np.array([[1, 2, 3], [4, 5, 6], [7, 8, 9]])\n",
    "indices = np.array([[0, 1], [1, 2], [2, 0]])\n",
    "result = extract_elements(arr, indices)\n",
    "print(result)\n"
   ]
  },
  {
   "cell_type": "code",
   "execution_count": 35,
   "id": "2b7c1c89-faf2-4d10-83df-abfc9217bf99",
   "metadata": {},
   "outputs": [
    {
     "name": "stdout",
     "output_type": "stream",
     "text": [
      "[ 8 12]\n"
     ]
    }
   ],
   "source": [
    "#32. Create a NumPy function that filters elements greater than a threshold from a given 1D array using boolean indexing.\n",
    "\n",
    "import numpy as np\n",
    "\n",
    "def filter_elements(arr, threshold):\n",
    "    return arr[arr > threshold]\n",
    "\n",
    "# Example usage:\n",
    "arr = np.array([1, 5, 8, 12, 3])\n",
    "result = filter_elements(arr, 5)\n",
    "print(result)\n"
   ]
  },
  {
   "cell_type": "code",
   "execution_count": 36,
   "id": "408c6650-b646-492d-9bbb-c8ec457e4fa1",
   "metadata": {},
   "outputs": [
    {
     "name": "stdout",
     "output_type": "stream",
     "text": [
      "[4 5 2]\n"
     ]
    }
   ],
   "source": [
    "#33. Develop a NumPy function that extracts specific elements from a 3D array using indices provided in three separate arrays for each dimension.\n",
    "\n",
    "import numpy as np\n",
    "\n",
    "def extract_elements_3d(arr, x_indices, y_indices, z_indices):\n",
    "    return arr[x_indices, y_indices, z_indices]\n",
    "\n",
    "# Example usage:\n",
    "arr = np.random.randint(1, 10, size=(3, 3, 3))\n",
    "x_indices = np.array([0, 1, 2])\n",
    "y_indices = np.array([1, 2, 0])\n",
    "z_indices = np.array([2, 0, 1])\n",
    "result = extract_elements_3d(arr, x_indices, y_indices, z_indices)\n",
    "print(result)\n"
   ]
  },
  {
   "cell_type": "code",
   "execution_count": 37,
   "id": "e3b08629-581c-47b3-a686-0976f123099a",
   "metadata": {},
   "outputs": [
    {
     "name": "stdout",
     "output_type": "stream",
     "text": [
      "[5 8]\n"
     ]
    }
   ],
   "source": [
    "#34. Write a NumPy function that returns elements from an array where both two conditions are satisfied using boolean indexing.\n",
    "\n",
    "import numpy as np\n",
    "\n",
    "def elements_satisfying_conditions(arr, condition1, condition2):\n",
    "    return arr[(arr > condition1) & (arr < condition2)]\n",
    "\n",
    "# Example usage:\n",
    "arr = np.array([1, 5, 8, 12, 3])\n",
    "result = elements_satisfying_conditions(arr, 4, 10)\n",
    "print(result)\n"
   ]
  },
  {
   "cell_type": "code",
   "execution_count": 38,
   "id": "a1c0f699-43eb-40be-8d71-3e6b824e6391",
   "metadata": {},
   "outputs": [
    {
     "name": "stdout",
     "output_type": "stream",
     "text": [
      "[2 6 7]\n"
     ]
    }
   ],
   "source": [
    "#35. Create a NumPy function that extracts elements from a 2D array using row and column indices provided in separate arrays.\n",
    "\n",
    "import numpy as np\n",
    "\n",
    "def extract_elements_by_indices(arr, row_indices, col_indices):\n",
    "    return arr[row_indices, col_indices]\n",
    "\n",
    "# Example usage:\n",
    "arr = np.array([[1, 2, 3], [4, 5, 6], [7, 8, 9]])\n",
    "row_indices = np.array([0, 1, 2])\n",
    "col_indices = np.array([1, 2, 0])\n",
    "result = extract_elements_by_indices(arr, row_indices, col_indices)\n",
    "print(result)\n"
   ]
  },
  {
   "cell_type": "code",
   "execution_count": 39,
   "id": "f4f846dd-6cf2-4ace-88fc-8449433f722b",
   "metadata": {},
   "outputs": [
    {
     "name": "stdout",
     "output_type": "stream",
     "text": [
      "[[ 6  7  8]\n",
      " [ 9 10 11]\n",
      " [12 13 14]]\n"
     ]
    }
   ],
   "source": [
    "#36. Given an array arr of shape (3, 3), add a scalar value of 5 to each element using NumPy broadcasting\n",
    "\n",
    "import numpy as np\n",
    "\n",
    "def add_scalar(arr, scalar):\n",
    "    return arr + scalar\n",
    "\n",
    "# Example usage:\n",
    "arr = np.array([[1, 2, 3], [4, 5, 6], [7, 8, 9]])\n",
    "result = add_scalar(arr, 5)\n",
    "print(result)\n"
   ]
  },
  {
   "cell_type": "code",
   "execution_count": 40,
   "id": "bf8ce347-dd0e-4647-beb2-b0a27e68ad27",
   "metadata": {},
   "outputs": [
    {
     "name": "stdout",
     "output_type": "stream",
     "text": [
      "[[ 4  5  6  7]\n",
      " [16 18 20 22]\n",
      " [36 39 42 45]]\n"
     ]
    }
   ],
   "source": [
    "#37. Consider two arrays arr1 of shape (1, 3) and arr2 of shape (3, 4). Multiply each row of arr2 by the corresponding element in arr1 using NumPy broadcasting\n",
    "\n",
    "import numpy as np\n",
    "\n",
    "def multiply_rows(arr1, arr2):\n",
    "    return arr1.T * arr2\n",
    "\n",
    "# Example usage:\n",
    "arr1 = np.array([[1, 2, 3]])\n",
    "arr2 = np.array([[4, 5, 6, 7], [8, 9, 10, 11], [12, 13, 14, 15]])\n",
    "result = multiply_rows(arr1, arr2)\n",
    "print(result)\n"
   ]
  },
  {
   "cell_type": "code",
   "execution_count": 41,
   "id": "5f432879-985a-4d01-8899-6893d20046a1",
   "metadata": {},
   "outputs": [
    {
     "name": "stdout",
     "output_type": "stream",
     "text": [
      "[[ 6  7  8]\n",
      " [10 11 12]\n",
      " [14 15 16]\n",
      " [18 19 20]]\n"
     ]
    }
   ],
   "source": [
    "#38. Given a 1D array arr1 of shape (1, 4) and a 2D array arr2 of shape (4, 3), add arr1 to each row of arr2 using NumPy broadcasting.\n",
    "\n",
    "import numpy as np\n",
    "\n",
    "def add_to_each_row(arr1, arr2):\n",
    "    return arr1 + arr2\n",
    "\n",
    "# Example usage:\n",
    "arr1 = np.array([[1, 2, 3, 4]])\n",
    "arr2 = np.array([[5, 6, 7], [8, 9, 10], [11, 12, 13], [14, 15, 16]])\n",
    "result = add_to_each_row(arr1.T, arr2)\n",
    "print(result)\n"
   ]
  },
  {
   "cell_type": "code",
   "execution_count": 42,
   "id": "eec879d8-05b9-451a-89ba-d8a32d273e6a",
   "metadata": {},
   "outputs": [
    {
     "name": "stdout",
     "output_type": "stream",
     "text": [
      "[[5 6 7]\n",
      " [6 7 8]\n",
      " [7 8 9]]\n"
     ]
    }
   ],
   "source": [
    "#39. Consider two arrays arr1 of shape (3, 1) and arr2 of shape (1, 3). Add these arrays using NumPy broadcasting.\n",
    "\n",
    "import numpy as np\n",
    "\n",
    "def add_arrays(arr1, arr2):\n",
    "    return arr1 + arr2\n",
    "\n",
    "# Example usage:\n",
    "arr1 = np.array([[1], [2], [3]])\n",
    "arr2 = np.array([[4, 5, 6]])\n",
    "result = add_arrays(arr1, arr2)\n",
    "print(result)\n"
   ]
  },
  {
   "cell_type": "code",
   "execution_count": 43,
   "id": "02d6eb86-1583-4247-a69a-57f25491cec1",
   "metadata": {},
   "outputs": [
    {
     "ename": "ValueError",
     "evalue": "operands could not be broadcast together with shapes (2,3,1) (1,2,2) ",
     "output_type": "error",
     "traceback": [
      "\u001b[0;31m---------------------------------------------------------------------------\u001b[0m",
      "\u001b[0;31mValueError\u001b[0m                                Traceback (most recent call last)",
      "Cell \u001b[0;32mIn[43], line 13\u001b[0m\n\u001b[1;32m     11\u001b[0m arr1 \u001b[38;5;241m=\u001b[39m np\u001b[38;5;241m.\u001b[39marray([[\u001b[38;5;241m1\u001b[39m, \u001b[38;5;241m2\u001b[39m, \u001b[38;5;241m3\u001b[39m], [\u001b[38;5;241m4\u001b[39m, \u001b[38;5;241m5\u001b[39m, \u001b[38;5;241m6\u001b[39m]])\n\u001b[1;32m     12\u001b[0m arr2 \u001b[38;5;241m=\u001b[39m np\u001b[38;5;241m.\u001b[39marray([[\u001b[38;5;241m7\u001b[39m, \u001b[38;5;241m8\u001b[39m], [\u001b[38;5;241m9\u001b[39m, \u001b[38;5;241m10\u001b[39m]])\n\u001b[0;32m---> 13\u001b[0m result \u001b[38;5;241m=\u001b[39m \u001b[43mmultiply_with_broadcasting\u001b[49m\u001b[43m(\u001b[49m\u001b[43marr1\u001b[49m\u001b[43m,\u001b[49m\u001b[43m \u001b[49m\u001b[43marr2\u001b[49m\u001b[43m)\u001b[49m\n\u001b[1;32m     14\u001b[0m \u001b[38;5;28mprint\u001b[39m(result)\n",
      "Cell \u001b[0;32mIn[43], line 8\u001b[0m, in \u001b[0;36mmultiply_with_broadcasting\u001b[0;34m(arr1, arr2)\u001b[0m\n\u001b[1;32m      6\u001b[0m arr1_expanded \u001b[38;5;241m=\u001b[39m np\u001b[38;5;241m.\u001b[39mexpand_dims(arr1, axis\u001b[38;5;241m=\u001b[39m\u001b[38;5;241m2\u001b[39m)\n\u001b[1;32m      7\u001b[0m arr2_expanded \u001b[38;5;241m=\u001b[39m np\u001b[38;5;241m.\u001b[39mexpand_dims(arr2, axis\u001b[38;5;241m=\u001b[39m\u001b[38;5;241m0\u001b[39m)\n\u001b[0;32m----> 8\u001b[0m \u001b[38;5;28;01mreturn\u001b[39;00m \u001b[43marr1_expanded\u001b[49m\u001b[43m \u001b[49m\u001b[38;5;241;43m*\u001b[39;49m\u001b[43m \u001b[49m\u001b[43marr2_expanded\u001b[49m\n",
      "\u001b[0;31mValueError\u001b[0m: operands could not be broadcast together with shapes (2,3,1) (1,2,2) "
     ]
    }
   ],
   "source": [
    "#40. Given arrays arr1 of shape (2, 3) and arr2 of shape (2, 2), perform multiplication using NumPy broadcasting. Handle the shape incompatibility.\n",
    "\n",
    "import numpy as np\n",
    "\n",
    "def multiply_with_broadcasting(arr1, arr2):\n",
    "    arr1_expanded = np.expand_dims(arr1, axis=2)\n",
    "    arr2_expanded = np.expand_dims(arr2, axis=0)\n",
    "    return arr1_expanded * arr2_expanded\n",
    "\n",
    "# Example usage:\n",
    "arr1 = np.array([[1, 2, 3], [4, 5, 6]])\n",
    "arr2 = np.array([[7, 8], [9, 10]])\n",
    "result = multiply_with_broadcasting(arr1, arr2)\n",
    "print(result)\n"
   ]
  },
  {
   "cell_type": "code",
   "execution_count": 44,
   "id": "bb260e6b-93e6-4610-a55e-f864a606b373",
   "metadata": {},
   "outputs": [
    {
     "name": "stdout",
     "output_type": "stream",
     "text": [
      "[2.5 3.5 4.5]\n"
     ]
    }
   ],
   "source": [
    "#41. Calculate column-wise mean for the given array: arr = np.array([[1, 2, 3], [4, 5, 6]])\n",
    "\n",
    "import numpy as np\n",
    "\n",
    "def column_wise_mean(arr):\n",
    "    return np.mean(arr, axis=0)\n",
    "\n",
    "# Example usage:\n",
    "arr = np.array([[1, 2, 3], [4, 5, 6]])\n",
    "result = column_wise_mean(arr)\n",
    "print(result)\n"
   ]
  },
  {
   "cell_type": "code",
   "execution_count": 45,
   "id": "66045b2e-eb1b-4cac-badb-552732980964",
   "metadata": {},
   "outputs": [
    {
     "name": "stdout",
     "output_type": "stream",
     "text": [
      "[3 6]\n"
     ]
    }
   ],
   "source": [
    "#42. Find maximum value in each row of the given array:\n",
    "   \n",
    "   #arr = np.array([[1, 2, 3], [4, 5, 6]])\n",
    "   \n",
    "import numpy as np\n",
    "\n",
    "def max_in_each_row(arr):\n",
    "    return np.max(arr, axis=1)\n",
    "\n",
    "# Example usage:\n",
    "arr = np.array([[1, 2, 3], [4, 5, 6]])\n",
    "result = max_in_each_row(arr)\n",
    "print(result)\n"
   ]
  },
  {
   "cell_type": "code",
   "execution_count": 46,
   "id": "39236bc9-1830-4644-a50c-3a96de6014c5",
   "metadata": {},
   "outputs": [
    {
     "name": "stdout",
     "output_type": "stream",
     "text": [
      "[1 1 1]\n"
     ]
    }
   ],
   "source": [
    "#43. For the given array, find indices of maximum value in each column:\n",
    " \n",
    "  # arr = np.array([[1, 2, 3], [4, 5, 6]])\n",
    "\n",
    "import numpy as np\n",
    "\n",
    "def indices_of_max_in_each_column(arr):\n",
    "    return np.argmax(arr, axis=0)\n",
    "\n",
    "# Example usage:\n",
    "arr = np.array([[1, 2, 3], [4, 5, 6]])\n",
    "result = indices_of_max_in_each_column(arr)\n",
    "print(result)\n"
   ]
  },
  {
   "cell_type": "code",
   "execution_count": 47,
   "id": "99580d68-53af-4ecb-adf4-c2ca710bfbca",
   "metadata": {},
   "outputs": [
    {
     "name": "stdout",
     "output_type": "stream",
     "text": [
      "[[ 1  3  6]\n",
      " [ 4  9 15]]\n"
     ]
    }
   ],
   "source": [
    "#44. For the given array, apply custom function to calculate moving sum along rows:\n",
    "   \n",
    " #  arr = np.array([[1, 2, 3], [4, 5, 6]])\n",
    "\n",
    "import numpy as np\n",
    "\n",
    "def moving_sum(arr):\n",
    "    def row_moving_sum(row):\n",
    "        return np.cumsum(row)\n",
    "    \n",
    "    return np.apply_along_axis(row_moving_sum, 1, arr)\n",
    "\n",
    "# Example usage:\n",
    "arr = np.array([[1, 2, 3], [4, 5, 6]])\n",
    "result = moving_sum(arr)\n",
    "print(result)\n"
   ]
  },
  {
   "cell_type": "code",
   "execution_count": 48,
   "id": "7ad729ef-b37e-45bd-b0df-2c55a407988f",
   "metadata": {},
   "outputs": [
    {
     "name": "stdout",
     "output_type": "stream",
     "text": [
      "[False False False]\n"
     ]
    }
   ],
   "source": [
    "#45. In the given array, check if all elements in each column are even:\n",
    "   \n",
    "   #arr = np.array([[2, 4, 6], [3, 5, 7]])\n",
    "\n",
    "import numpy as np\n",
    "\n",
    "def all_even_in_each_column(arr):\n",
    "    return np.all(arr % 2 == 0, axis=0)\n",
    "\n",
    "# Example usage:\n",
    "arr = np.array([[2, 4, 6], [3, 5, 7]])\n",
    "result = all_even_in_each_column(arr)\n",
    "print(result)\n"
   ]
  },
  {
   "cell_type": "code",
   "execution_count": 49,
   "id": "f76e4e0b-59f7-4a0c-be9a-ea76c18bae2d",
   "metadata": {},
   "outputs": [
    {
     "name": "stdout",
     "output_type": "stream",
     "text": [
      "[[1 2 3]\n",
      " [4 5 6]]\n"
     ]
    }
   ],
   "source": [
    "#46. Given a NumPy array and m, n, reshape it into a matrix of dimensions m rows and n columns. Return reshaped matrix:\n",
    "   \n",
    "   #original_array = np.array([1, 2, 3, 4, 5, 6])\n",
    "\n",
    "import numpy as np\n",
    "\n",
    "def reshape_array(original_array, m, n):\n",
    "    return np.reshape(original_array, (m, n))\n",
    "\n",
    "# Example usage:\n",
    "original_array = np.array([1, 2, 3, 4, 5, 6])\n",
    "result = reshape_array(original_array, 2, 3)\n",
    "print(result)\n"
   ]
  },
  {
   "cell_type": "code",
   "execution_count": 50,
   "id": "8c0f6712-7ff0-442f-8347-994252f7b155",
   "metadata": {},
   "outputs": [
    {
     "name": "stdout",
     "output_type": "stream",
     "text": [
      "[1 2 3 4 5 6]\n"
     ]
    }
   ],
   "source": [
    "#47. Create a function that takes a matrix as input and returns the flattened array:\n",
    " \n",
    " #  input_matrix = np.array([[1, 2, 3], [4, 5, 6]])\n",
    "\n",
    "\n",
    "import numpy as np\n",
    "\n",
    "def flatten_matrix(matrix):\n",
    "    return matrix.flatten()\n",
    "\n",
    "# Example usage:\n",
    "input_matrix = np.array([[1, 2, 3], [4, 5, 6]])\n",
    "result = flatten_matrix(input_matrix)\n",
    "print(result)\n"
   ]
  },
  {
   "cell_type": "code",
   "execution_count": 51,
   "id": "c2a008ed-7d5a-4804-b381-f5a8429e1c33",
   "metadata": {},
   "outputs": [
    {
     "name": "stdout",
     "output_type": "stream",
     "text": [
      "Concatenated along axis 0:\n",
      "[[1 2]\n",
      " [3 4]\n",
      " [5 6]\n",
      " [7 8]]\n",
      "Concatenated along axis 1:\n",
      "[[1 2 5 6]\n",
      " [3 4 7 8]]\n"
     ]
    }
   ],
   "source": [
    "#48. Write a function that concatenates two given arrays along a specified axis:\n",
    "   #array1 = np.array([[1, 2], [3, 4]])\n",
    "   #array2 = np.array([[5, 6], [7, 8]])\n",
    "\n",
    "import numpy as np\n",
    "\n",
    "def concatenate_arrays(array1, array2, axis=0):\n",
    "    return np.concatenate((array1, array2), axis=axis)\n",
    "\n",
    "# Example usage:\n",
    "array1 = np.array([[1, 2], [3, 4]])\n",
    "array2 = np.array([[5, 6], [7, 8]])\n",
    "result_axis0 = concatenate_arrays(array1, array2, axis=0)\n",
    "result_axis1 = concatenate_arrays(array1, array2, axis=1)\n",
    "print(\"Concatenated along axis 0:\")\n",
    "print(result_axis0)\n",
    "print(\"Concatenated along axis 1:\")\n",
    "print(result_axis1)\n"
   ]
  },
  {
   "cell_type": "code",
   "execution_count": 52,
   "id": "f7c95d1e-2a26-4829-97d5-86eb04acf710",
   "metadata": {},
   "outputs": [
    {
     "name": "stdout",
     "output_type": "stream",
     "text": [
      "[array([[1, 2, 3]]), array([[4, 5, 6]]), array([[7, 8, 9]])]\n"
     ]
    }
   ],
   "source": [
    "#49. Create a function that splits an array into multiple sub-arrays along a specified axis.\n",
    "\n",
    "   # original_array = np.array([[1, 2, 3], [4, 5, 6], [7, 8, 9]])\n",
    "    \n",
    "\n",
    "import numpy as np\n",
    "\n",
    "def split_array(array, num_splits, axis=0):\n",
    "    return np.array_split(array, num_splits, axis)\n",
    "\n",
    "original_array = np.array([[1, 2, 3], [4, 5, 6], [7, 8, 9]])\n",
    "result = split_array(original_array, 3, axis=0)\n",
    "print(result)\n"
   ]
  },
  {
   "cell_type": "code",
   "execution_count": 53,
   "id": "7d207b1d-bb99-4330-bfb4-9fd3316db227",
   "metadata": {},
   "outputs": [
    {
     "name": "stdout",
     "output_type": "stream",
     "text": [
      "[ 1 10  4 11  5]\n"
     ]
    }
   ],
   "source": [
    "#50. Write a function that inserts and then deletes elements from a given array at specified indices.\n",
    "    \n",
    "    #original_array = np.array([1, 2, 3, 4, 5])\n",
    "    #indices_to_insert = [2, 4]\n",
    "    #values_to_insert = [10, 11]\n",
    "    #indices_to_delete = [1, 3]\n",
    "    \n",
    "import numpy as np\n",
    "\n",
    "def insert_and_delete_elements(array, insert_indices, insert_values, delete_indices):\n",
    "    array = np.insert(array, insert_indices, insert_values)\n",
    "    array = np.delete(array, delete_indices)\n",
    "    return array\n",
    "\n",
    "original_array = np.array([1, 2, 3, 4, 5])\n",
    "indices_to_insert = [2, 4]\n",
    "values_to_insert = [10, 11]\n",
    "indices_to_delete = [1, 3]\n",
    "\n",
    "result = insert_and_delete_elements(original_array, indices_to_insert, values_to_insert, indices_to_delete)\n",
    "print(result)\n",
    "   "
   ]
  },
  {
   "cell_type": "code",
   "execution_count": 54,
   "id": "9eff650e-f265-44f8-aa40-af12fd6dff8a",
   "metadata": {},
   "outputs": [
    {
     "name": "stdout",
     "output_type": "stream",
     "text": [
      "[39 13 78 14  7 99 36 85 70 89]\n"
     ]
    }
   ],
   "source": [
    "#51. Create a NumPy array arr1 with random integers and another array arr2 with integers from 1 to 10. Perform element-wise addition between arr1 and arr2.\n",
    "\n",
    "import numpy as np\n",
    "\n",
    "arr1 = np.random.randint(1, 100, size=10)\n",
    "arr2 = np.arange(1, 11)\n",
    "result = arr1 + arr2\n",
    "print(result)\n"
   ]
  },
  {
   "cell_type": "code",
   "execution_count": 55,
   "id": "3eab02ad-b73b-410e-ab3a-8c356a317584",
   "metadata": {},
   "outputs": [
    {
     "name": "stdout",
     "output_type": "stream",
     "text": [
      "[ 9  7  5  3  1 -1 -3 -5 -7 -9]\n"
     ]
    }
   ],
   "source": [
    "#52. Generate a NumPy array arr1 with sequential integers from 10 to 1 and another array arr2 with integers from 1 to 10. Subtract arr2 from arr1 element-wise.\n",
    "\n",
    "import numpy as np\n",
    "\n",
    "arr1 = np.arange(10, 0, -1)\n",
    "arr2 = np.arange(1, 11)\n",
    "result = arr1 - arr2\n",
    "print(result)\n"
   ]
  },
  {
   "cell_type": "code",
   "execution_count": 56,
   "id": "4b8852f1-2cfd-4b20-b1f1-7d4d70f9aabf",
   "metadata": {},
   "outputs": [
    {
     "name": "stdout",
     "output_type": "stream",
     "text": [
      "[ 84 196 111  40  50]\n"
     ]
    }
   ],
   "source": [
    "#53. Create a NumPy array arr1 with random integers and another array arr2 with integers from 1 to 5. Perform element-wise multiplication between arr1 and arr2.\n",
    "\n",
    "import numpy as np\n",
    "\n",
    "arr1 = np.random.randint(1, 100, size=5)\n",
    "arr2 = np.arange(1, 6)\n",
    "result = arr1 * arr2\n",
    "print(result)\n"
   ]
  },
  {
   "cell_type": "code",
   "execution_count": 57,
   "id": "a950b63e-7c82-4e18-b4c8-739cee194157",
   "metadata": {},
   "outputs": [
    {
     "name": "stdout",
     "output_type": "stream",
     "text": [
      "[2. 2. 2. 2. 2.]\n"
     ]
    }
   ],
   "source": [
    "#54. Generate a NumPy array arr1 with even integers from 2 to 10 and another array arr2 with integers from 1 to 5. Perform element-wise division of arr1 by arr2.\n",
    "\n",
    "import numpy as np\n",
    "\n",
    "arr1 = np.arange(2, 11, 2)\n",
    "arr2 = np.arange(1, 6)\n",
    "result = arr1 / arr2\n",
    "print(result)\n"
   ]
  },
  {
   "cell_type": "code",
   "execution_count": 58,
   "id": "2b13c6de-b5ea-4f7d-bc89-fa7768c8bce2",
   "metadata": {},
   "outputs": [
    {
     "name": "stdout",
     "output_type": "stream",
     "text": [
      "[ 1 16 27 16  5]\n"
     ]
    }
   ],
   "source": [
    "#55. Create a NumPy array arr1 with integers from 1 to 5 and another array arr2 with the same numbers reversed. Calculate the exponentiation of arr1 raised to the power of arr2 element-wise.\n",
    "\n",
    "import numpy as np\n",
    "\n",
    "arr1 = np.arange(1, 6)\n",
    "arr2 = arr1[::-1]\n",
    "result = arr1 ** arr2\n",
    "print(result)\n"
   ]
  },
  {
   "cell_type": "code",
   "execution_count": 60,
   "id": "7e081611-c4f7-440a-b15a-4e1c9e53bd2f",
   "metadata": {},
   "outputs": [
    {
     "name": "stdout",
     "output_type": "stream",
     "text": [
      "3\n"
     ]
    }
   ],
   "source": [
    "#56. Write a function that counts the occurrences of a specific substring within a NumPy array of strings.\n",
    "\n",
    "   # arr = np.array(['hello', 'world', 'hello', 'numpy', 'hello'])\n",
    "\n",
    "import numpy as np\n",
    "\n",
    "def count_substring_occurrences(arr, substring):\n",
    "    return np.char.count(arr, substring).sum()\n",
    "\n",
    "arr = np.array(['hello', 'world', 'hello', 'numpy', 'hello'])\n",
    "substring = 'hello'\n",
    "result = count_substring_occurrences(arr, substring)\n",
    "print(result)\n",
    "   "
   ]
  },
  {
   "cell_type": "code",
   "execution_count": 61,
   "id": "ddb53616-87a5-43f0-915e-65c412c9a25d",
   "metadata": {},
   "outputs": [
    {
     "name": "stdout",
     "output_type": "stream",
     "text": [
      "['H' 'W' 'OAI' 'GPT']\n"
     ]
    }
   ],
   "source": [
    "#57. Write a function that extracts uppercase characters from a NumPy array of strings.\n",
    "    \n",
    "   # arr = np.array(['Hello', 'World', 'OpenAI', 'GPT'])\n",
    " \n",
    "import numpy as np\n",
    "\n",
    "def extract_uppercase(arr):\n",
    "    return np.array([''.join([char for char in string if char.isupper()]) for string in arr])\n",
    "\n",
    "arr = np.array(['Hello', 'World', 'OpenAI', 'GPT'])\n",
    "result = extract_uppercase(arr)\n",
    "print(result)\n",
    "    "
   ]
  },
  {
   "cell_type": "code",
   "execution_count": 62,
   "id": "a5cd7d1e-37f6-465b-9376-f24bbe0aff47",
   "metadata": {},
   "outputs": [
    {
     "name": "stdout",
     "output_type": "stream",
     "text": [
      "['fruit' 'banana' 'grape' 'pinefruit']\n"
     ]
    }
   ],
   "source": [
    "#58. Write a function that replaces occurrences of a substring in a NumPy array of strings with a new string.\n",
    "    \n",
    "   # arr = np.array(['apple', 'banana', 'grape', 'pineapple'])\n",
    "    \n",
    "import numpy as np\n",
    "\n",
    "def replace_substring(arr, old_substr, new_substr):\n",
    "    return np.char.replace(arr, old_substr, new_substr)\n",
    "\n",
    "arr = np.array(['apple', 'banana', 'grape', 'pineapple'])\n",
    "old_substr = 'apple'\n",
    "new_substr = 'fruit'\n",
    "result = replace_substring(arr, old_substr, new_substr)\n",
    "print(result)\n"
   ]
  },
  {
   "cell_type": "code",
   "execution_count": 63,
   "id": "d27017ab-d094-4ccf-8b49-15ea7c542369",
   "metadata": {},
   "outputs": [
    {
     "name": "stdout",
     "output_type": "stream",
     "text": [
      "['HelloOpen' 'WorldAI']\n"
     ]
    }
   ],
   "source": [
    "#59. Write a function that concatenates strings in a NumPy array element-wise.\n",
    "    \n",
    "   # arr1 = np.array(['Hello', 'World'])\n",
    "     #arr2 = np.array(['Open', 'AI'])\n",
    "    \n",
    "import numpy as np\n",
    "\n",
    "def concatenate_strings(arr1, arr2):\n",
    "    return np.char.add(arr1, arr2)\n",
    "\n",
    "arr1 = np.array(['Hello', 'World'])\n",
    "arr2 = np.array(['Open', 'AI'])\n",
    "result = concatenate_strings(arr1, arr2)\n",
    "print(result)\n",
    "   "
   ]
  },
  {
   "cell_type": "code",
   "execution_count": 64,
   "id": "985ab5f0-1602-415e-8499-bde88757076f",
   "metadata": {},
   "outputs": [
    {
     "name": "stdout",
     "output_type": "stream",
     "text": [
      "9\n"
     ]
    }
   ],
   "source": [
    "#60. Write a function that finds the length of the longest string in a NumPy array.\n",
    "    \n",
    "   # arr = np.array(['apple', 'banana', 'grape', 'pineapple'])\n",
    "import numpy as np\n",
    "\n",
    "def longest_string_length(arr):\n",
    "    return max(np.char.str_len(arr))\n",
    "\n",
    "arr = np.array(['apple', 'banana', 'grape', 'pineapple'])\n",
    "result = longest_string_length(arr)\n",
    "print(result)\n",
    "    "
   ]
  },
  {
   "cell_type": "code",
   "execution_count": 65,
   "id": "a1486dce-3e5b-44f4-82fd-9cbec7ca04bb",
   "metadata": {},
   "outputs": [
    {
     "name": "stdout",
     "output_type": "stream",
     "text": [
      "Mean: 484.68\n",
      "Median: 503.0\n",
      "Variance: 77647.3376\n",
      "Standard Deviation: 278.65271863019746\n"
     ]
    }
   ],
   "source": [
    "#61. Create a dataset of 100 random integers between 1 and 1000. Compute the mean, median, variance, and standard deviation of the dataset using NumPy's functions.\n",
    "\n",
    "import numpy as np\n",
    "\n",
    "data = np.random.randint(1, 1001, size=100)\n",
    "mean = np.mean(data)\n",
    "median = np.median(data)\n",
    "variance = np.var(data)\n",
    "std_deviation = np.std(data)\n",
    "\n",
    "print(f\"Mean: {mean}\")\n",
    "print(f\"Median: {median}\")\n",
    "print(f\"Variance: {variance}\")\n",
    "print(f\"Standard Deviation: {std_deviation}\")\n"
   ]
  },
  {
   "cell_type": "code",
   "execution_count": 66,
   "id": "63ca00dc-d28b-4485-bce4-cef2b6513160",
   "metadata": {},
   "outputs": [
    {
     "name": "stdout",
     "output_type": "stream",
     "text": [
      "25th Percentile: 23.25\n",
      "75th Percentile: 64.75\n"
     ]
    }
   ],
   "source": [
    "#62. Generate an array of 50 random numbers between 1 and 100. Find the 25th and 75th percentiles of the dataset.\n",
    "\n",
    "import numpy as np\n",
    "\n",
    "data = np.random.randint(1, 101, size=50)\n",
    "percentile_25 = np.percentile(data, 25)\n",
    "percentile_75 = np.percentile(data, 75)\n",
    "\n",
    "print(f\"25th Percentile: {percentile_25}\")\n",
    "print(f\"75th Percentile: {percentile_75}\")\n"
   ]
  },
  {
   "cell_type": "code",
   "execution_count": 67,
   "id": "cd996144-ec37-40b8-8b0d-39bdff4b5893",
   "metadata": {},
   "outputs": [
    {
     "name": "stdout",
     "output_type": "stream",
     "text": [
      "Correlation Coefficient Matrix:\n",
      "[[ 1.         -0.08783289]\n",
      " [-0.08783289  1.        ]]\n"
     ]
    }
   ],
   "source": [
    "#63. Create two arrays representing two sets of variables. Compute the correlation coefficient between these arrays using NumPy's corrcoef function.\n",
    "\n",
    "import numpy as np\n",
    "\n",
    "arr1 = np.random.randint(1, 101, size=50)\n",
    "arr2 = np.random.randint(1, 101, size=50)\n",
    "correlation_coefficient = np.corrcoef(arr1, arr2)\n",
    "\n",
    "print(\"Correlation Coefficient Matrix:\")\n",
    "print(correlation_coefficient)\n"
   ]
  },
  {
   "cell_type": "code",
   "execution_count": 68,
   "id": "c1092345-06de-4983-9c1f-2573af1864a3",
   "metadata": {},
   "outputs": [
    {
     "name": "stdout",
     "output_type": "stream",
     "text": [
      "Matrix 1:\n",
      "[[4 8 8]\n",
      " [2 4 2]\n",
      " [7 6 3]]\n",
      "Matrix 2:\n",
      "[[4 3 5]\n",
      " [5 8 9]\n",
      " [8 7 5]]\n",
      "Matrix Multiplication Result:\n",
      "[[120 132 132]\n",
      " [ 44  52  56]\n",
      " [ 82  90 104]]\n"
     ]
    }
   ],
   "source": [
    "#64. Create two matrices and perform matrix multiplication using NumPy's dot function.\n",
    "\n",
    "import numpy as np\n",
    "\n",
    "matrix1 = np.random.randint(1, 10, size=(3, 3))\n",
    "matrix2 = np.random.randint(1, 10, size=(3, 3))\n",
    "result = np.dot(matrix1, matrix2)\n",
    "\n",
    "print(\"Matrix 1:\")\n",
    "print(matrix1)\n",
    "print(\"Matrix 2:\")\n",
    "print(matrix2)\n",
    "print(\"Matrix Multiplication Result:\")\n",
    "print(result)\n"
   ]
  },
  {
   "cell_type": "code",
   "execution_count": 69,
   "id": "842fc907-791e-4c23-ae19-a01c51060e96",
   "metadata": {},
   "outputs": [
    {
     "name": "stdout",
     "output_type": "stream",
     "text": [
      "10th Percentile: 101.2\n",
      "50th Percentile (Median): 513.0\n",
      "90th Percentile: 919.3\n",
      "First Quartile: 335.0\n",
      "Third Quartile: 774.75\n"
     ]
    }
   ],
   "source": [
    "#65. Create an array of 50 integers between 10 and 1000. Calculate the 10th, 50th (median), and 90th percentiles along with the first and third quartiles.\n",
    "\n",
    "import numpy as np\n",
    "\n",
    "data = np.random.randint(10, 1001, size=50)\n",
    "percentile_10 = np.percentile(data, 10)\n",
    "percentile_50 = np.percentile(data, 50)\n",
    "percentile_90 = np.percentile(data, 90)\n",
    "first_quartile = np.percentile(data, 25)\n",
    "third_quartile = np.percentile(data, 75)\n",
    "\n",
    "print(f\"10th Percentile: {percentile_10}\")\n",
    "print(f\"50th Percentile (Median): {percentile_50}\")\n",
    "print(f\"90th Percentile: {percentile_90}\")\n",
    "print(f\"First Quartile: {first_quartile}\")\n",
    "print(f\"Third Quartile: {third_quartile}\")\n"
   ]
  },
  {
   "cell_type": "code",
   "execution_count": 70,
   "id": "de496585-458d-4403-9fc2-8dd7f861b91e",
   "metadata": {},
   "outputs": [
    {
     "name": "stdout",
     "output_type": "stream",
     "text": [
      "Index of element 7: 3\n"
     ]
    }
   ],
   "source": [
    "#66. Create a NumPy array of integers and find the index of a specific element.\n",
    "\n",
    "import numpy as np\n",
    "\n",
    "arr = np.array([1, 3, 5, 7, 9, 11])\n",
    "element_to_find = 7\n",
    "index = np.where(arr == element_to_find)[0][0]\n",
    "\n",
    "print(f\"Index of element {element_to_find}: {index}\")\n"
   ]
  },
  {
   "cell_type": "code",
   "execution_count": 71,
   "id": "503d7937-962a-4641-a55e-316a08fe8258",
   "metadata": {},
   "outputs": [
    {
     "name": "stdout",
     "output_type": "stream",
     "text": [
      "Original Array:\n",
      "[25 77  9 83 36 47 39 94 90 63]\n",
      "Sorted Array:\n",
      "[ 9 25 36 39 47 63 77 83 90 94]\n"
     ]
    }
   ],
   "source": [
    "#67. Generate a random NumPy array and sort it in ascending order.\n",
    "\n",
    "import numpy as np\n",
    "\n",
    "arr = np.random.randint(1, 101, size=10)\n",
    "sorted_arr = np.sort(arr)\n",
    "\n",
    "print(\"Original Array:\")\n",
    "print(arr)\n",
    "print(\"Sorted Array:\")\n",
    "print(sorted_arr)\n"
   ]
  },
  {
   "cell_type": "code",
   "execution_count": 72,
   "id": "21566db2-4530-4f89-82e6-db73aded7663",
   "metadata": {},
   "outputs": [
    {
     "name": "stdout",
     "output_type": "stream",
     "text": [
      "Filtered Array (elements > 20):\n",
      "[25 42 30]\n"
     ]
    }
   ],
   "source": [
    "#68. Filter elements >20 in the given NumPy array.\n",
    "\n",
    "   # arr = np.array([12, 25, 6, 42, 8, 30])\n",
    "\n",
    "import numpy as np\n",
    "\n",
    "arr = np.array([12, 25, 6, 42, 8, 30])\n",
    "filtered_arr = arr[arr > 20]\n",
    "\n",
    "print(\"Filtered Array (elements > 20):\")\n",
    "print(filtered_arr)\n"
   ]
  },
  {
   "cell_type": "code",
   "execution_count": 73,
   "id": "52e8e3ab-43ba-4adf-9612-14f5fc7b36a2",
   "metadata": {},
   "outputs": [
    {
     "name": "stdout",
     "output_type": "stream",
     "text": [
      "[ 3 12 15]\n"
     ]
    }
   ],
   "source": [
    "#69. Filter elements which are divisible by 3 from a given NumPy array.\n",
    "    \n",
    "    #arr = np.array([1, 3, 5, 8, 12, 15])\n",
    "    \n",
    "import numpy as np\n",
    "\n",
    "def filter_divisible_by_3(arr):\n",
    "    return arr[arr % 3 == 0]\n",
    "\n",
    "arr = np.array([1, 3, 5, 8, 12, 15])\n",
    "result = filter_divisible_by_3(arr)\n",
    "print(result)\n",
    "    "
   ]
  },
  {
   "cell_type": "code",
   "execution_count": 74,
   "id": "ab102b28-b9e9-4159-bd60-09eb042def5d",
   "metadata": {},
   "outputs": [
    {
     "name": "stdout",
     "output_type": "stream",
     "text": [
      "[20 30 40]\n"
     ]
    }
   ],
   "source": [
    "#70. Filter elements which are ≥ 20 and ≤ 40 from a given NumPy array.\n",
    "    \n",
    "    #arr = np.array([10, 20, 30, 40, 50])\n",
    " \n",
    "import numpy as np\n",
    "\n",
    "def filter_range(arr):\n",
    "    return arr[(arr >= 20) & (arr <= 40)]\n",
    "\n",
    "arr = np.array([10, 20, 30, 40, 50])\n",
    "result = filter_range(arr)\n",
    "print(result)\n"
   ]
  },
  {
   "cell_type": "code",
   "execution_count": 75,
   "id": "ad0bf1a0-6ad7-4364-97d2-03f31ea343d6",
   "metadata": {},
   "outputs": [
    {
     "name": "stdout",
     "output_type": "stream",
     "text": [
      "Byte order: =\n"
     ]
    }
   ],
   "source": [
    "#71. For the given NumPy array, check its byte order using the dtype attribute byteorder.\n",
    "    \n",
    "    #arr = np.array([1, 2, 3])\n",
    "    \n",
    "import numpy as np\n",
    "\n",
    "def check_byte_order(arr):\n",
    "    return arr.dtype.byteorder\n",
    "\n",
    "arr = np.array([1, 2, 3])\n",
    "byte_order = check_byte_order(arr)\n",
    "print(f\"Byte order: {byte_order}\")\n",
    "    "
   ]
  },
  {
   "cell_type": "code",
   "execution_count": 76,
   "id": "04f16000-3cfa-44a9-b2de-d29fe414a98a",
   "metadata": {},
   "outputs": [
    {
     "name": "stdout",
     "output_type": "stream",
     "text": [
      "[16777216 33554432 50331648]\n"
     ]
    }
   ],
   "source": [
    "#72. For the given NumPy array, perform byte swapping in place using byteswap().\n",
    "    \n",
    "    #arr = np.array([1, 2, 3], dtype=np.int32)\n",
    "    \n",
    "import numpy as np\n",
    "\n",
    "def byte_swap_in_place(arr):\n",
    "    arr.byteswap(True)\n",
    "    return arr\n",
    "\n",
    "arr = np.array([1, 2, 3], dtype=np.int32)\n",
    "result = byte_swap_in_place(arr)\n",
    "print(result)\n",
    "    "
   ]
  },
  {
   "cell_type": "code",
   "execution_count": 77,
   "id": "e5056698-cc20-46b9-ac98-1969ca412921",
   "metadata": {},
   "outputs": [
    {
     "name": "stdout",
     "output_type": "stream",
     "text": [
      "[16777216 33554432 50331648]\n",
      "Original array:\n",
      "[1 2 3]\n"
     ]
    }
   ],
   "source": [
    "#73. For the given NumPy array, swap its byte order without modifying the original array using newbyteorder().\n",
    "\n",
    "    #arr = np.array([1, 2, 3], dtype=np.int32)\n",
    "    \n",
    "import numpy as np\n",
    "\n",
    "def swap_byte_order(arr):\n",
    "    return arr.newbyteorder()\n",
    "\n",
    "arr = np.array([1, 2, 3], dtype=np.int32)\n",
    "result = swap_byte_order(arr)\n",
    "print(result)\n",
    "print(\"Original array:\")\n",
    "print(arr)\n",
    "    "
   ]
  },
  {
   "cell_type": "code",
   "execution_count": 78,
   "id": "22f07423-b403-46bd-bd42-874a2a65537e",
   "metadata": {},
   "outputs": [
    {
     "name": "stdout",
     "output_type": "stream",
     "text": [
      "[16777216 33554432 50331648]\n"
     ]
    }
   ],
   "source": [
    "#74. For the given NumPy array and swap its byte order conditionally based on system endianness using newbyteorder().\n",
    "    \n",
    "    #arr = np.array([1, 2, 3], dtype=np.int32)\n",
    "    \n",
    "import numpy as np\n",
    "\n",
    "def conditional_swap_byte_order(arr):\n",
    "    if arr.dtype.byteorder == '=':\n",
    "        return arr.newbyteorder()\n",
    "    return arr\n",
    "\n",
    "arr = np.array([1, 2, 3], dtype=np.int32)\n",
    "result = conditional_swap_byte_order(arr)\n",
    "print(result)\n"
   ]
  },
  {
   "cell_type": "code",
   "execution_count": 79,
   "id": "ad0a4a53-d1e8-4090-97ad-6a1f19d9cb6f",
   "metadata": {},
   "outputs": [
    {
     "name": "stdout",
     "output_type": "stream",
     "text": [
      "Byte swapping necessary: True\n"
     ]
    }
   ],
   "source": [
    "#75. For the given NumPy array, check if byte swapping is necessary for the current system using dtype attribute byteorder.\n",
    "    \n",
    "    #arr = np.array([1, 2, 3], dtype=np.int32)\n",
    " \n",
    "import numpy as np\n",
    "\n",
    "def is_byte_swapping_necessary(arr):\n",
    "    return arr.dtype.byteorder == '='\n",
    "\n",
    "arr = np.array([1, 2, 3], dtype=np.int32)\n",
    "byte_swapping_necessary = is_byte_swapping_necessary(arr)\n",
    "print(f\"Byte swapping necessary: {byte_swapping_necessary}\")\n"
   ]
  },
  {
   "cell_type": "code",
   "execution_count": 80,
   "id": "531a80bb-97a3-46b1-adc1-fecd968c87e1",
   "metadata": {},
   "outputs": [
    {
     "name": "stdout",
     "output_type": "stream",
     "text": [
      "arr1:\n",
      "[ 1  2  3  4  5  6  7  8  9 10]\n",
      "copy_arr:\n",
      "[100   2   3   4   5   6   7   8   9  10]\n"
     ]
    }
   ],
   "source": [
    "#76. Create a NumPy array arr1 with values from 1 to 10. Create a copy of arr1 named copy_arr and modify an element in copy_arr. Check if modifying copy_arr affects arr1.\n",
    "\n",
    "import numpy as np\n",
    "\n",
    "arr1 = np.arange(1, 11)\n",
    "copy_arr = arr1.copy()\n",
    "copy_arr[0] = 100\n",
    "\n",
    "print(\"arr1:\")\n",
    "print(arr1)\n",
    "print(\"copy_arr:\")\n",
    "print(copy_arr)\n"
   ]
  },
  {
   "cell_type": "code",
   "execution_count": 81,
   "id": "723f61ed-ee94-4302-994e-58d7ff086464",
   "metadata": {},
   "outputs": [
    {
     "name": "stdout",
     "output_type": "stream",
     "text": [
      "matrix:\n",
      "[[999  32  68]\n",
      " [  2  29  36]\n",
      " [ 39  48  75]]\n",
      "view_slice:\n",
      "[[999  32]\n",
      " [  2  29]]\n"
     ]
    }
   ],
   "source": [
    "#77. Create a 2D NumPy array matrix of shape (3, 3) with random integers. Extract a slice view_slice from the matrix. Modify an element in view_slice and observe if it changes the original matrix.\n",
    "\n",
    "import numpy as np\n",
    "\n",
    "matrix = np.random.randint(1, 100, size=(3, 3))\n",
    "view_slice = matrix[:2, :2]\n",
    "view_slice[0, 0] = 999\n",
    "\n",
    "print(\"matrix:\")\n",
    "print(matrix)\n",
    "print(\"view_slice:\")\n",
    "print(view_slice)\n"
   ]
  },
  {
   "cell_type": "code",
   "execution_count": 82,
   "id": "f2f7842b-e787-4d20-8a03-09a943830e76",
   "metadata": {},
   "outputs": [
    {
     "name": "stdout",
     "output_type": "stream",
     "text": [
      "array_a:\n",
      "[[ 6  7  3]\n",
      " [ 9 10  6]\n",
      " [ 7  8  9]\n",
      " [10 11 12]]\n",
      "view_b:\n",
      "[[ 6  7]\n",
      " [ 9 10]]\n"
     ]
    }
   ],
   "source": [
    "#78. Create a NumPy array array_a of shape (4, 3) with sequential integers from 1 to 12. Extract a slice view_b from array_a and broadcast the addition of 5 to view_b. Check if it alters the original array_a.\n",
    "\n",
    "import numpy as np\n",
    "\n",
    "array_a = np.arange(1, 13).reshape(4, 3)\n",
    "view_b = array_a[:2, :2]\n",
    "view_b += 5\n",
    "\n",
    "print(\"array_a:\")\n",
    "print(array_a)\n",
    "print(\"view_b:\")\n",
    "print(view_b)\n"
   ]
  },
  {
   "cell_type": "code",
   "execution_count": 83,
   "id": "92502cab-158e-4764-b2a6-76d6e45fa5a7",
   "metadata": {},
   "outputs": [
    {
     "name": "stdout",
     "output_type": "stream",
     "text": [
      "orig_array:\n",
      "[[999   2   3   4]\n",
      " [  5   6   7   8]]\n",
      "reshaped_view:\n",
      "[[999   2]\n",
      " [  3   4]\n",
      " [  5   6]\n",
      " [  7   8]]\n"
     ]
    }
   ],
   "source": [
    "#79. Create a NumPy array orig_array of shape (2, 4) with values from 1 to 8. Create a reshaped view reshaped_view of shape (4, 2) from orig_array. Modify an element in reshaped_view and check if it reflects changes in the original orig_array.\n",
    "\n",
    "import numpy as np\n",
    "\n",
    "orig_array = np.arange(1, 9).reshape(2, 4)\n",
    "reshaped_view = orig_array.reshape(4, 2)\n",
    "reshaped_view[0, 0] = 999\n",
    "\n",
    "print(\"orig_array:\")\n",
    "print(orig_array)\n",
    "print(\"reshaped_view:\")\n",
    "print(reshaped_view)\n"
   ]
  },
  {
   "cell_type": "code",
   "execution_count": 84,
   "id": "f023449e-ad1e-434b-ae3e-81418ff1f510",
   "metadata": {},
   "outputs": [
    {
     "name": "stdout",
     "output_type": "stream",
     "text": [
      "data:\n",
      "[[5 2 2 4]\n",
      " [5 2 8 7]\n",
      " [4 6 8 8]]\n",
      "data_copy:\n",
      "[999   7   6   8   8]\n"
     ]
    }
   ],
   "source": [
    "#80. Create a NumPy array data of shape (3, 4) with random integers. Extract a copy data_copy of elements greater than 5. Modify an element in data_copy and verify if it affects the original data.\n",
    "\n",
    "import numpy as np\n",
    "\n",
    "data = np.random.randint(1, 10, size=(3, 4))\n",
    "data_copy = data[data > 5].copy()\n",
    "data_copy[0] = 999\n",
    "\n",
    "print(\"data:\")\n",
    "print(data)\n",
    "print(\"data_copy:\")\n",
    "print(data_copy)\n"
   ]
  },
  {
   "cell_type": "code",
   "execution_count": 85,
   "id": "92b1daee-606e-4c8e-a4ee-f4ca81cc16e6",
   "metadata": {},
   "outputs": [
    {
     "name": "stdout",
     "output_type": "stream",
     "text": [
      "Matrix A:\n",
      "[[3 8 3]\n",
      " [4 5 5]\n",
      " [5 9 3]]\n",
      "Matrix B:\n",
      "[[4 8 1]\n",
      " [2 2 3]\n",
      " [5 8 9]]\n",
      "Addition Result:\n",
      "[[ 7 16  4]\n",
      " [ 6  7  8]\n",
      " [10 17 12]]\n",
      "Subtraction Result:\n",
      "[[-1  0  2]\n",
      " [ 2  3  2]\n",
      " [ 0  1 -6]]\n"
     ]
    }
   ],
   "source": [
    "#81. Create two matrices A and B of identical shape containing integers and perform addition and subtraction operations between them.\n",
    "\n",
    "import numpy as np\n",
    "\n",
    "A = np.random.randint(1, 10, size=(3, 3))\n",
    "B = np.random.randint(1, 10, size=(3, 3))\n",
    "\n",
    "addition_result = A + B\n",
    "subtraction_result = A - B\n",
    "\n",
    "print(\"Matrix A:\")\n",
    "print(A)\n",
    "print(\"Matrix B:\")\n",
    "print(B)\n",
    "print(\"Addition Result:\")\n",
    "print(addition_result)\n",
    "print(\"Subtraction Result:\")\n",
    "print(subtraction_result)\n"
   ]
  },
  {
   "cell_type": "code",
   "execution_count": 86,
   "id": "cffdfb61-c076-4694-a332-c9c736aa62c8",
   "metadata": {},
   "outputs": [
    {
     "name": "stdout",
     "output_type": "stream",
     "text": [
      "Matrix C:\n",
      "[[9 7]\n",
      " [7 7]\n",
      " [8 2]]\n",
      "Matrix D:\n",
      "[[4 7 4 2]\n",
      " [4 5 7 1]]\n",
      "Matrix Multiplication Result:\n",
      "[[64 98 85 25]\n",
      " [56 84 77 21]\n",
      " [40 66 46 18]]\n"
     ]
    }
   ],
   "source": [
    "#82. Generate two matrices C (3x2) and D (2x4) and perform matrix multiplication.\n",
    "\n",
    "import numpy as np\n",
    "\n",
    "C = np.random.randint(1, 10, size=(3, 2))\n",
    "D = np.random.randint(1, 10, size=(2, 4))\n",
    "\n",
    "multiplication_result = np.dot(C, D)\n",
    "\n",
    "print(\"Matrix C:\")\n",
    "print(C)\n",
    "print(\"Matrix D:\")\n",
    "print(D)\n",
    "print(\"Matrix Multiplication Result:\")\n",
    "print(multiplication_result)\n"
   ]
  },
  {
   "cell_type": "code",
   "execution_count": 87,
   "id": "baee4226-9f68-4ca1-9c0d-01c2ac317edf",
   "metadata": {},
   "outputs": [
    {
     "name": "stdout",
     "output_type": "stream",
     "text": [
      "Matrix E:\n",
      "[[4 6 7 5]\n",
      " [9 7 3 6]\n",
      " [2 3 8 4]]\n",
      "Transpose of E:\n",
      "[[4 9 2]\n",
      " [6 7 3]\n",
      " [7 3 8]\n",
      " [5 6 4]]\n"
     ]
    }
   ],
   "source": [
    "#83. Create a matrix E and find its transpose.\n",
    "\n",
    "import numpy as np\n",
    "\n",
    "E = np.random.randint(1, 10, size=(3, 4))\n",
    "transpose_E = E.T\n",
    "\n",
    "print(\"Matrix E:\")\n",
    "print(E)\n",
    "print(\"Transpose of E:\")\n",
    "print(transpose_E)\n"
   ]
  },
  {
   "cell_type": "code",
   "execution_count": 88,
   "id": "a4b497da-30a2-4e96-b9a4-b1922c4b5b8c",
   "metadata": {},
   "outputs": [
    {
     "name": "stdout",
     "output_type": "stream",
     "text": [
      "Matrix F:\n",
      "[[1 4 2]\n",
      " [9 9 5]\n",
      " [6 4 4]]\n",
      "Determinant of F:\n",
      "-44.000000000000014\n"
     ]
    }
   ],
   "source": [
    "#84. Generate a square matrix F and compute its determinant.\n",
    "\n",
    "import numpy as np\n",
    "\n",
    "F = np.random.randint(1, 10, size=(3, 3))\n",
    "determinant_F = np.linalg.det(F)\n",
    "\n",
    "print(\"Matrix F:\")\n",
    "print(F)\n",
    "print(\"Determinant of F:\")\n",
    "print(determinant_F)\n"
   ]
  },
  {
   "cell_type": "code",
   "execution_count": 89,
   "id": "1c5f0633-87da-403d-b78d-f5b31b52c60b",
   "metadata": {},
   "outputs": [
    {
     "name": "stdout",
     "output_type": "stream",
     "text": [
      "Matrix G:\n",
      "[[1 9 4]\n",
      " [6 1 4]\n",
      " [4 1 4]]\n",
      "Inverse of G:\n",
      "[[-4.62592927e-18  5.00000000e-01 -5.00000000e-01]\n",
      " [ 1.25000000e-01  1.87500000e-01 -3.12500000e-01]\n",
      " [-3.12500000e-02 -5.46875000e-01  8.28125000e-01]]\n"
     ]
    }
   ],
   "source": [
    "#85. Create a square matrix G and find its inverse.\n",
    "\n",
    "import numpy as np\n",
    "\n",
    "G = np.random.randint(1, 10, size=(3, 3))\n",
    "inverse_G = np.linalg.inv(G)\n",
    "\n",
    "print(\"Matrix G:\")\n",
    "print(G)\n",
    "print(\"Inverse of G:\")\n",
    "print(inverse_G)\n"
   ]
  }
 ],
 "metadata": {
  "kernelspec": {
   "display_name": "Python 3 (ipykernel)",
   "language": "python",
   "name": "python3"
  },
  "language_info": {
   "codemirror_mode": {
    "name": "ipython",
    "version": 3
   },
   "file_extension": ".py",
   "mimetype": "text/x-python",
   "name": "python",
   "nbconvert_exporter": "python",
   "pygments_lexer": "ipython3",
   "version": "3.10.8"
  }
 },
 "nbformat": 4,
 "nbformat_minor": 5
}
